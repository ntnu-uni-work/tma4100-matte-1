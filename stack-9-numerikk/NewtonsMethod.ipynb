{
 "cells": [
  {
   "cell_type": "markdown",
   "metadata": {},
   "source": [
    "<!-- KODE = \"ja\", \"nei\", default \"ja\" -->\n",
    "\n",
    "\n",
    "<!-- dom:AUTHOR: TMA4100 Matematikk 1 -->\n",
    "<!-- Author: -->  \n",
    "**TMA4100 Matematikk 1**\n",
    "<!-- dom:TITLE: Newton's method for solving nonlinear equations -->\n",
    "# Newton's method for solving nonlinear equations\n",
    "\n",
    "Date: **Oct 21, 2024**\n",
    "\n",
    "# Roots of nonlinear equations\n",
    "Let $f$ be a continuous function defined on $[a,b]$. A *zero* or\n",
    "*root* $r$ of $f$ is a solution of the equation"
   ]
  },
  {
   "cell_type": "markdown",
   "metadata": {},
   "source": [
    "<!-- Equation labels as ordinary links -->\n",
    "<div id=\"_auto1\"></div>\n",
    "\n",
    "$$\n",
    "\\begin{equation}\n",
    "f(x) = 0.\n",
    "\\label{_auto1} \\tag{1}\n",
    "\\end{equation}\n",
    "$$"
   ]
  },
  {
   "cell_type": "markdown",
   "metadata": {},
   "source": [
    "A nonlinear equation may have one, more than one, or no roots. \n",
    "\n",
    "\n",
    "**Example:**\n",
    "Given the function $f(x)=x^3+x^2-3x-3$ on the interval $[-2,2]$.\n",
    "Plot the function on the interval, and locate possible roots."
   ]
  },
  {
   "cell_type": "code",
   "execution_count": 1,
   "metadata": {},
   "outputs": [],
   "source": [
    "%matplotlib inline\n",
    "\n",
    "from numpy import *\n",
    "from matplotlib.pyplot import *\n",
    "newparams = {'figure.figsize': (8.0, 4.0), 'axes.grid': True,\n",
    "             'lines.markersize': 8, 'lines.linewidth': 2,\n",
    "             'font.size': 14}\n",
    "rcParams.update(newparams)"
   ]
  },
  {
   "cell_type": "code",
   "execution_count": 2,
   "metadata": {},
   "outputs": [
    {
     "data": {
      "image/png": "[encoded data removed]",
      "text/plain": [
       "<Figure size 432x288 with 1 Axes>"
      ]
     },
     "metadata": {
      "needs_background": "light"
     },
     "output_type": "display_data"
    }
   ],
   "source": [
    "# Example 1\n",
    "def f(x):                   # Define the function\n",
    "    return x**3+x**2-3*x-3\n",
    "\n",
    "# Plot the function on an interval \n",
    "x = linspace(-2, 2, 101)    # x-values (evaluation points)\n",
    "plot(x, f(x))               # Plot the function\n",
    "plot(x, 0*x, 'r')           # Plot the x-axis\n",
    "xlabel('x')\n",
    "grid(True)\n",
    "ylabel('f(x)');"
   ]
  },
  {
   "cell_type": "markdown",
   "metadata": {},
   "source": [
    "According to the plot, the function $f$ has three real roots in the interval\n",
    "$[-2, 2]$. \n",
    "\n",
    "The function can be rewritten as $f(x) = (x+1)(x^2-3)$,\n",
    "and therefore has the roots $-1$ and $\\pm \\sqrt{3}$. \n",
    "\n",
    "\n",
    "# Newton's method\n",
    "The idea is to replace $f(x)=0$ by its linear approximation $f(x_k)+(x_{k+1}-x_k)f'(x_k)=0$ and iterate.\n",
    "\n",
    "**Newton's method.**\n",
    "\n",
    "  * Given $f$ and a starting value $x_0$. \n",
    "\n",
    "  * For $k=0,1,2,3,\\dotsc$\n",
    "\n",
    "    * $\\displaystyle x_{k+1} = x_k - \\frac{f(x_k)}{f'(x_k)}$\n",
    "\n",
    "\n",
    "\n",
    "### Remark:\n",
    "(You may skip this part.)\n",
    "\n",
    "Let $x=r$ be a root of $f$ and $e_k=r-x_k$ the error of the method."
   ]
  },
  {
   "cell_type": "markdown",
   "metadata": {},
   "source": [
    "$$\n",
    "\\begin{align*}\n",
    "  0 = f(r) &= f(x_k) + f'(x_k)(r-x_k) + \\frac{1}{2}f''(\\xi_k)(r-x_k)^2\n",
    "&& \\text{(Taylor's theorem)} \\\\ \n",
    "   0 &= f(x_k) + f'(x_k)(x_{k+1}-x_k) && \\text{(Newton's method)}\n",
    "\\end{align*}\n",
    "$$"
   ]
  },
  {
   "cell_type": "markdown",
   "metadata": {},
   "source": [
    "where $\\xi_k$ is between $r$ and $x_k$. Subtract the two equations to get"
   ]
  },
  {
   "cell_type": "markdown",
   "metadata": {},
   "source": [
    "$$\n",
    "f'(x_k)(r-x_{k+1}) + \\frac{1}{2}f''(\\xi_{k})(r-x_k)^2 = 0\n",
    "\\qquad \\Rightarrow \\qquad\n",
    "e_{k+1} = - \\frac{1}{2} \\frac{f''(\\xi_k)}{f'(x_k)} e_k^2.\n",
    "$$"
   ]
  },
  {
   "cell_type": "markdown",
   "metadata": {},
   "source": [
    "Therefore we have quadratic convergence if $f''$ is bounded and\n",
    "$f'\\neq0$ near $r$, and $x_0$ is sufficiently close to $r$.\n",
    "\n",
    "\n",
    "\n",
    "### Implementation\n",
    "\n",
    "The method is implemented in the function `newton()`. The iterations are terminated when \n",
    "$|f(x_k)|$ is less than a given tolerance."
   ]
  },
  {
   "cell_type": "code",
   "execution_count": 4,
   "metadata": {},
   "outputs": [],
   "source": [
    "def newton(f, df, x0, tol=1.e-8, max_iter=30):\n",
    "    # Solve f(x)=0 by Newtons method\n",
    "    # The output of each iteration is printed\n",
    "    # Input:\n",
    "    #   f, df:   The function f and its derivate f'.\n",
    "    #   x0:  Initial values\n",
    "    #   tol: The tolerance\n",
    "    # Output:\n",
    "    #   The root and the number of iterations\n",
    "    x = x0\n",
    "    print('k ={:3d}, x = {:18.15f}, f(x) = {:10.3e}'.format(0, x, f(x)))\n",
    "    for k in range(max_iter):\n",
    "        fx = f(x)\n",
    "        # if abs(fx) < tol:           # Accept the solution \n",
    "        #     break \n",
    "        x = x - fx/df(x)            # Newton-iteration\n",
    "        print('k ={:3d}, x = {:18.15f}, f(x) = {:10.3e}'.format(k+1, x, f(x)))\n",
    "    return x, k+1"
   ]
  },
  {
   "cell_type": "markdown",
   "metadata": {},
   "source": [
    "**Example:**\n",
    "Solve $f(x)=x^3+x^2-3x-3=0$ by Newton's method. Choose $x_0=1.5$. \n",
    "The derivative of $f$ is $f'(x)=3x^2+2x-3$."
   ]
  },
  {
   "cell_type": "code",
   "execution_count": 7,
   "metadata": {
    "scrolled": false
   },
   "outputs": [
    {
     "name": "stdout",
     "output_type": "stream",
     "text": [
      "k =  0, x =  0.320000000000000, f(x) =  4.105e+00\n",
      "k =  1, x = -12.653142727325628, f(x) =  3.971e+00\n",
      "k =  2, x = -24.611470738290080, f(x) =  4.166e+00\n",
      "k =  3, x = -39.023563446053075, f(x) =  3.677e+00\n",
      "\n",
      "\n",
      "Result:\n",
      "x=-39.023563446053075, number of iterations=3\n"
     ]
    }
   ],
   "source": [
    "# Example 2\n",
    "def f(x):                   # The function f\n",
    "    return 4 + sin(x) / 3 - x\n",
    "\n",
    "def df(x):                  # The derivative f'\n",
    "    return cos(x) / 3 - 1\n",
    "\n",
    "x0 = 0.32                  # Starting value\n",
    "x, nit = newton(f, df, x0, tol=1.e-6, max_iter=3)  # Apply Newton\n",
    "print('\\n\\nResult:\\nx={}, number of iterations={}'.format(x, nit))"
   ]
  }
 ],
 "metadata": {
  "kernelspec": {
   "display_name": "3.12.3",
   "language": "python",
   "name": "python3"
  },
  "language_info": {
   "codemirror_mode": {
    "name": "ipython",
    "version": 3
   },
   "file_extension": ".py",
   "mimetype": "text/x-python",
   "name": "python",
   "nbconvert_exporter": "python",
   "pygments_lexer": "ipython3",
   "version": "3.12.3"
  }
 },
 "nbformat": 4,
 "nbformat_minor": 2
}
